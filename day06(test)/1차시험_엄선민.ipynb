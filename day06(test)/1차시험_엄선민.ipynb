{
  "nbformat": 4,
  "nbformat_minor": 0,
  "metadata": {
    "colab": {
      "name": "1차시험-엄선민.ipynb",
      "provenance": [],
      "collapsed_sections": []
    },
    "kernelspec": {
      "name": "python3",
      "display_name": "Python 3"
    }
  },
  "cells": [
    {
      "cell_type": "code",
      "metadata": {
        "colab": {
          "base_uri": "https://localhost:8080/"
        },
        "id": "OYzJt7L_Nz0m",
        "outputId": "3f7f4429-882f-45b4-9047-a9162eb6894f"
      },
      "source": [
        "#문1 나의이름은: 홍길동 나의 나이는: 100 나의 성별은 : 남 나의 좌우명은: 열심히 살자\r\n",
        "name=input(\"나의 이름은 \")\r\n",
        "age=int(input(\"나의 나이는 \"))\r\n",
        "age1= age+1\r\n",
        "gender=input(\"나의 성별은 \")\r\n",
        "motto=input(\"나의 좌우명은 \")\r\n",
        "\r\n",
        "print(\"========================\")\r\n",
        "print(\"나는 \", name, \"이고, 내 나이는 \", age, \"세, 내년 나이는 \", age1, \"세가 될 예정이고, \",1\r\n",
        "      \"나는 \", gender,\", 나는 \", motto, \"!가 내 좌우명!\" )"
      ],
      "execution_count": 7,
      "outputs": [
        {
          "output_type": "stream",
          "text": [
            "나의 이름은 홍길동\n",
            "나의 나이는 100\n",
            "나의 성별은 남\n",
            "나의 좌우명은 열심히 살자\n",
            "========================\n",
            "나는  홍길동 이고, 내 나이는  100 세, 내년 나이는  101 세가 될 예정이고,  나는  남 , 나는  열심히 살자 !가 내 좌우명!\n"
          ],
          "name": "stdout"
        }
      ]
    },
    {
      "cell_type": "code",
      "metadata": {
        "colab": {
          "base_uri": "https://localhost:8080/"
        },
        "id": "CktZaLFlN99c",
        "outputId": "95aebf59-a943-4049-fd99-4cd6a8260f5f"
      },
      "source": [
        "#문2 55부터 100까지 2씩 점프한 값을 출력\r\n",
        "for i in range(55, 101, 2):\r\n",
        "  print(i)"
      ],
      "execution_count": 19,
      "outputs": [
        {
          "output_type": "stream",
          "text": [
            "55\n",
            "57\n",
            "59\n",
            "61\n",
            "63\n",
            "65\n",
            "67\n",
            "69\n",
            "71\n",
            "73\n",
            "75\n",
            "77\n",
            "79\n",
            "81\n",
            "83\n",
            "85\n",
            "87\n",
            "89\n",
            "91\n",
            "93\n",
            "95\n",
            "97\n",
            "99\n"
          ],
          "name": "stdout"
        }
      ]
    },
    {
      "cell_type": "code",
      "metadata": {
        "colab": {
          "base_uri": "https://localhost:8080/"
        },
        "id": "ttkMBb5cODwC",
        "outputId": "b2f1de06-06b7-4bef-ef93-b16696ac59bf"
      },
      "source": [
        "#문3 홍길동 김길동 송길동 박길동 정길동 (계속 입력) x 또는 X를 입력 받으면 입력을 멈춤. \r\n",
        "#다음과 같이 출력 : 첫번째 선수는 홍길동, 세번째 선수는 송길동\r\n",
        "name=[]\r\n",
        "while True:\r\n",
        "  data= input(\"이름 : \")\r\n",
        "  if data == \"x\" or data == \"X\":\r\n",
        "    print(\"입력 멈춤\")\r\n",
        "    break\r\n",
        "  else:\r\n",
        "    name.append(data)\r\n",
        "    \r\n",
        "print(\"첫번째 선수는 \", name[0], \", 세번째 선수는 \", name[2] )\r\n"
      ],
      "execution_count": 31,
      "outputs": [
        {
          "output_type": "stream",
          "text": [
            "이름 : 홍길동\n",
            "이름 : 김길동\n",
            "이름 : 송길동\n",
            "이름 : 박길동\n",
            "이름 : 정길동\n",
            "이름 : X\n",
            "입력 멈춤\n",
            "첫번째 선수는  홍길동 , 세번째 선수는  송길동\n"
          ],
          "name": "stdout"
        }
      ]
    },
    {
      "cell_type": "code",
      "metadata": {
        "id": "CTHrcrLLVfQZ"
      },
      "source": [
        ""
      ],
      "execution_count": null,
      "outputs": []
    }
  ]
}